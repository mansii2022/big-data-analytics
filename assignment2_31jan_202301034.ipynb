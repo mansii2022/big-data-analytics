{
  "nbformat": 4,
  "nbformat_minor": 0,
  "metadata": {
    "colab": {
      "provenance": [],
      "authorship_tag": "ABX9TyPv9tcYwZvDnQPFMTQXgfhc",
      "include_colab_link": true
    },
    "kernelspec": {
      "name": "python3",
      "display_name": "Python 3"
    },
    "language_info": {
      "name": "python"
    }
  },
  "cells": [
    {
      "cell_type": "markdown",
      "metadata": {
        "id": "view-in-github",
        "colab_type": "text"
      },
      "source": [
        "<a href=\"https://colab.research.google.com/github/mansii2022/big-data-analytics/blob/main/assignment1bigdata202301034.ipynb\" target=\"_parent\"><img src=\"https://colab.research.google.com/assets/colab-badge.svg\" alt=\"Open In Colab\"/></a>"
      ]
    },
    {
      "cell_type": "code",
      "execution_count": 1,
      "metadata": {
        "id": "veAt4f1EOEvp",
        "colab": {
          "base_uri": "https://localhost:8080/"
        },
        "outputId": "3d34ff50-ebf4-4811-f050-b675cd6fa4f7"
      },
      "outputs": [
        {
          "output_type": "stream",
          "name": "stdout",
          "text": [
            "[5 4 6 3 2 1]\n"
          ]
        }
      ],
      "source": [
        "#question1\n",
        "#Reverse the NumPy array: arr = np.array([1, 2, 3, 6, 4, 5]) )\n",
        "import numpy as np\n",
        "arr = np.array([1, 2, 3, 6, 4, 5])\n",
        "reverse_arr = arr[::-1]\n",
        "print(reverse_arr)\n"
      ]
    },
    {
      "cell_type": "code",
      "source": [
        "#question2\n",
        " #Compare the following numpy arrays: arr1 = np.array([[1, 2], [3, 4]])arr2 = np.array([[1, 2], [3, 4]])\n",
        "import numpy as np\n",
        "arr1 = np.array([[1, 2], [3, 4]])\n",
        "arr2 = np.array([[1, 2], [3, 4]])\n",
        "if np.array_equal(arr1, arr2):\n",
        "    print(\"true\")\n",
        "else:\n",
        "    print(\"false\")\n",
        "\n"
      ],
      "metadata": {
        "colab": {
          "base_uri": "https://localhost:8080/"
        },
        "id": "73xM10JnPYXU",
        "outputId": "39910642-8e60-4fd1-8154-eaad7f0d37a8"
      },
      "execution_count": 5,
      "outputs": [
        {
          "output_type": "stream",
          "name": "stdout",
          "text": [
            "true\n"
          ]
        }
      ]
    },
    {
      "cell_type": "code",
      "source": [
        "#question 3\n",
        "#Find the most frequent value and their indice(s) in the following arrays:\n",
        "import numpy as np\n",
        "x= np.array([1,2,3,4,5,1,2,1,1,1])\n",
        "freq_x = np.argmax(np.bincount(x))\n",
        "print(\"The most frequent value in x is\",freq_x)\n",
        "indices_x = np.where(x == freq_x)[0]\n",
        "print(\"The indices of the most frequent value in x are\", indices_x)\n",
        "y=np.array([1, 1, 1, 2, 3, 4, 2, 4, 3, 3, ])\n",
        "freq_y = np.argmax(np.bincount(y))\n",
        "print(\"The most frequent value in y is\",freq_y)\n",
        "indices_y = np.where(x == freq_y)[0]\n",
        "print(\"The indices of the most frequent value in x are\", indices_y)\n",
        "\n",
        "\n",
        "\n",
        "\n"
      ],
      "metadata": {
        "id": "T6YjoAVrRX6d",
        "outputId": "1ceb08c0-41af-40fe-be49-3af5260ab4e2",
        "colab": {
          "base_uri": "https://localhost:8080/"
        }
      },
      "execution_count": 11,
      "outputs": [
        {
          "output_type": "stream",
          "name": "stdout",
          "text": [
            "The most frequent value in x is 1\n",
            "The indices of the most frequent value in x are [0 5 7 8 9]\n",
            "The most frequent value in y is 1\n",
            "The indices of the most frequent value in x are [0 5 7 8 9]\n"
          ]
        }
      ]
    },
    {
      "cell_type": "code",
      "source": [
        "#question4\n",
        "import numpy as np\n",
        "gfg = np.matrix('[4, 1, 9; 12, 3, 1; 4, 5, 6]')\n",
        "row_sum = gfg.sum(axis=1)\n",
        "col_sum = gfg.sum(axis=0)\n",
        "print(row_sum)\n",
        "print(col_sum)\n"
      ],
      "metadata": {
        "id": "0d3pbpGoVkon",
        "outputId": "361af28a-b5a7-4783-c6ab-47b9908a8c6e",
        "colab": {
          "base_uri": "https://localhost:8080/"
        }
      },
      "execution_count": 12,
      "outputs": [
        {
          "output_type": "stream",
          "name": "stdout",
          "text": [
            "[[14]\n",
            " [16]\n",
            " [15]]\n",
            "[[20  9 16]]\n"
          ]
        }
      ]
    }
  ]
}
