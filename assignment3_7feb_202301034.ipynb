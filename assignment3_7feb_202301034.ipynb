{
  "nbformat": 4,
  "nbformat_minor": 0,
  "metadata": {
    "colab": {
      "provenance": [],
      "authorship_tag": "ABX9TyN3zJdh9hqbZRTZyuQRCYpi",
      "include_colab_link": true
    },
    "kernelspec": {
      "name": "python3",
      "display_name": "Python 3"
    },
    "language_info": {
      "name": "python"
    }
  },
  "cells": [
    {
      "cell_type": "markdown",
      "metadata": {
        "id": "view-in-github",
        "colab_type": "text"
      },
      "source": [
        "<a href=\"https://colab.research.google.com/github/mansii2022/big-data-analytics/blob/main/assignment3_7feb_202301034.ipynb\" target=\"_parent\"><img src=\"https://colab.research.google.com/assets/colab-badge.svg\" alt=\"Open In Colab\"/></a>"
      ]
    },
    {
      "cell_type": "code",
      "execution_count": null,
      "metadata": {
        "colab": {
          "base_uri": "https://localhost:8080/"
        },
        "id": "goT7nl8iRHUF",
        "outputId": "c517be31-d894-4899-de20-32f35b8853f1"
      },
      "outputs": [
        {
          "output_type": "stream",
          "name": "stdout",
          "text": [
            "   Tid Refund Marital Status taxable Income Cheat\n",
            "0    1    yes         single           125k    No\n",
            "1    2     No        Married           100k    No\n",
            "2    3     No        Married            70k    No\n",
            "3    4    yes        Married           105k    No\n",
            "4    5     No       Divorced            95k   Yes\n",
            "5    6     No        Married            60k    No\n",
            "6    7    yes       Divorced           220k    No\n",
            "7    8     No         single            85k   Yes\n",
            "8    9     No        Married            75k    No\n",
            "9   10    yes         single            90k    No\n"
          ]
        }
      ],
      "source": [
        "import pandas as pd\n",
        "data=[[1,'yes','single','125k','No'], [2,'No','Married','100k','No'], [3,'No','Married','70k','No'],\n",
        "      [4,'yes','Married','105k','No'],[5,'No','Divorced','95k','Yes'] ,[6,'No','Married','60k','No']\n",
        "      ,[7,'yes','Divorced','220k','No'],[8,'No','single','85k','Yes'],[9,'No','Married','75k','No'],\n",
        "      [10,'yes','single','90k','No']]\n",
        "df = pd.DataFrame(data, columns=['Tid', 'Refund','Marital Status','taxable Income','Cheat'])\n",
        "print(df)\n"
      ]
    },
    {
      "cell_type": "code",
      "source": [
        "print(df.loc[[0, 1,7,8]])"
      ],
      "metadata": {
        "colab": {
          "base_uri": "https://localhost:8080/"
        },
        "id": "SQeQGaN4Yhl2",
        "outputId": "b6985486-ec52-47b3-883c-1cf9fdf05d52"
      },
      "execution_count": null,
      "outputs": [
        {
          "output_type": "stream",
          "name": "stdout",
          "text": [
            "   Tid Refund Marital Status taxable Income Cheat\n",
            "0    1    yes         single           125k    No\n",
            "1    2     No        Married           100k    No\n",
            "7    8     No         single            85k   Yes\n",
            "8    9     No        Married            75k    No\n"
          ]
        }
      ]
    },
    {
      "cell_type": "code",
      "source": [
        "df=pd.read_csv('data.csv')\n",
        "print(df)"
      ],
      "metadata": {
        "colab": {
          "base_uri": "https://localhost:8080/"
        },
        "id": "UO-cLy1Uaohj",
        "outputId": "669f3043-f5e6-470d-8257-1a9cea6fde94"
      },
      "execution_count": null,
      "outputs": [
        {
          "output_type": "stream",
          "name": "stdout",
          "text": [
            "     Duration  Pulse  Maxpulse  Calories\n",
            "0          60    110       130     409.1\n",
            "1          60    117       145     479.0\n",
            "2          60    103       135     340.0\n",
            "3          45    109       175     282.4\n",
            "4          45    117       148     406.0\n",
            "..        ...    ...       ...       ...\n",
            "164        60    105       140     290.8\n",
            "165        60    110       145     300.0\n",
            "166        60    115       145     310.2\n",
            "167        75    120       150     320.4\n",
            "168        75    125       150     330.4\n",
            "\n",
            "[169 rows x 4 columns]\n"
          ]
        }
      ]
    }
  ]
}