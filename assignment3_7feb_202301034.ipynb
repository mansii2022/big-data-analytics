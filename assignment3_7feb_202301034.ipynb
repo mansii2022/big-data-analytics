{
  "nbformat": 4,
  "nbformat_minor": 0,
  "metadata": {
    "colab": {
      "provenance": [],
      "authorship_tag": "ABX9TyOFJKyC84TenuQ4rNTx7wtf",
      "include_colab_link": true
    },
    "kernelspec": {
      "name": "python3",
      "display_name": "Python 3"
    },
    "language_info": {
      "name": "python"
    }
  },
  "cells": [
    {
      "cell_type": "markdown",
      "metadata": {
        "id": "view-in-github",
        "colab_type": "text"
      },
      "source": [
        "<a href=\"https://colab.research.google.com/github/mansii2022/big-data-analytics/blob/main/assignment3_7feb_202301034.ipynb\" target=\"_parent\"><img src=\"https://colab.research.google.com/assets/colab-badge.svg\" alt=\"Open In Colab\"/></a>"
      ]
    },
    {
      "cell_type": "code",
      "execution_count": 6,
      "metadata": {
        "colab": {
          "base_uri": "https://localhost:8080/"
        },
        "id": "goT7nl8iRHUF",
        "outputId": "7f93c788-9950-498b-d444-398bbd26216d"
      },
      "outputs": [
        {
          "output_type": "stream",
          "name": "stdout",
          "text": [
            "Empty DataFrame\n",
            "Columns: [Tid, Refund, Marital Status, taxable Income, Cheat]\n",
            "Index: []\n"
          ]
        }
      ],
      "source": [
        "import pandas as pd\n",
        "dat=[[1,'yes','single', 10], ['nick', 15], ['juli', 14]]\n",
        "df = pd.DataFrame( columns=['Tid', 'Refund','Marital Status','taxable Income','Cheat'])\n",
        "\n",
        "# print dataframe.\n",
        "print(df)"
      ]
    }
  ]
}