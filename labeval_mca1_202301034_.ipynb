{
  "nbformat": 4,
  "nbformat_minor": 0,
  "metadata": {
    "colab": {
      "provenance": [],
      "authorship_tag": "ABX9TyPQ1Dw+U5DtKzU1c5GfkpXw",
      "include_colab_link": true
    },
    "kernelspec": {
      "name": "python3",
      "display_name": "Python 3"
    },
    "language_info": {
      "name": "python"
    }
  },
  "cells": [
    {
      "cell_type": "markdown",
      "metadata": {
        "id": "view-in-github",
        "colab_type": "text"
      },
      "source": [
        "<a href=\"https://colab.research.google.com/github/mansii2022/big-data-analytics/blob/main/labeval_mca1_202301034_.ipynb\" target=\"_parent\"><img src=\"https://colab.research.google.com/assets/colab-badge.svg\" alt=\"Open In Colab\"/></a>"
      ]
    },
    {
      "cell_type": "code",
      "execution_count": null,
      "metadata": {
        "id": "JCrKczfYs9O_"
      },
      "outputs": [],
      "source": [
        "#multiply the following matrices and also find covariance between matrices using\n",
        "#numpy: p=[[1,2],[2,3]] q=[[4,5],[6,7]]\n",
        "\n"
      ]
    },
    {
      "source": [
        "import numpy as np\n",
        "\n",
        "p = np.array([[1, 2], [2, 3]])\n",
        "q = np.array([[4, 5], [6, 7]])\n",
        "\n",
        "q = q.reshape((2, 2))\n",
        "\n",
        "multiply = np.dot(p, q)\n",
        "print(\"Multiplication of matrices:\")\n",
        "print(multiply)"
      ],
      "cell_type": "code",
      "metadata": {
        "colab": {
          "base_uri": "https://localhost:8080/"
        },
        "id": "0wd_yp_fzy6j",
        "outputId": "79580444-0fed-431b-f56a-84a2c76a807b"
      },
      "execution_count": 16,
      "outputs": [
        {
          "output_type": "stream",
          "name": "stdout",
          "text": [
            "Multiplication of matrices:\n",
            "[[16 19]\n",
            " [26 31]]\n"
          ]
        }
      ]
    },
    {
      "source": [
        "#covariance\n",
        "import numpy as np\n",
        "p = np.array([[1, 2], [2, 3]])\n",
        "q = np.array([[4,5], [6,7]])\n",
        "covariance = np.cov(p, q)\n",
        "print(\"Covariance between matrices:\")\n",
        "print(covariance)"
      ],
      "cell_type": "code",
      "metadata": {
        "colab": {
          "base_uri": "https://localhost:8080/"
        },
        "id": "dPJg_a1GyVHM",
        "outputId": "71077852-f6df-439d-f144-96841d62c15d"
      },
      "execution_count": 15,
      "outputs": [
        {
          "output_type": "stream",
          "name": "stdout",
          "text": [
            "Covariance between matrices:\n",
            "[[0.5 0.5 0.5 0.5]\n",
            " [0.5 0.5 0.5 0.5]\n",
            " [0.5 0.5 0.5 0.5]\n",
            " [0.5 0.5 0.5 0.5]]\n"
          ]
        }
      ]
    }
  ]
}